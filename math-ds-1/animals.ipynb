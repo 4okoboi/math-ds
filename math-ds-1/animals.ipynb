{
 "cells": [
  {
   "cell_type": "code",
   "id": "initial_id",
   "metadata": {
    "collapsed": true,
    "ExecuteTime": {
     "end_time": "2025-09-10T09:00:08.618365Z",
     "start_time": "2025-09-10T09:00:08.428615Z"
    }
   },
   "source": [
    "import pandas as pd\n",
    "from pandas import DataFrame"
   ],
   "outputs": [],
   "execution_count": 1
  },
  {
   "metadata": {
    "ExecuteTime": {
     "end_time": "2025-09-10T09:00:09.073967Z",
     "start_time": "2025-09-10T09:00:09.060673Z"
    }
   },
   "cell_type": "code",
   "source": "df = pd.read_csv('data_animal.csv')",
   "id": "178a12e69f07a608",
   "outputs": [],
   "execution_count": 2
  },
  {
   "metadata": {
    "ExecuteTime": {
     "end_time": "2025-09-10T09:00:10.188609Z",
     "start_time": "2025-09-10T09:00:10.177819Z"
    }
   },
   "cell_type": "code",
   "source": "df.info()",
   "id": "91f5960c0e6c6c42",
   "outputs": [
    {
     "name": "stdout",
     "output_type": "stream",
     "text": [
      "<class 'pandas.core.frame.DataFrame'>\n",
      "RangeIndex: 5000 entries, 0 to 4999\n",
      "Data columns (total 9 columns):\n",
      " #   Column     Non-Null Count  Dtype \n",
      "---  ------     --------------  ----- \n",
      " 0   Animal     5000 non-null   object\n",
      " 1   symptoms1  5000 non-null   object\n",
      " 2   symptoms2  5000 non-null   object\n",
      " 3   symptoms3  5000 non-null   object\n",
      " 4   symptoms4  5000 non-null   object\n",
      " 5   symptoms5  5000 non-null   object\n",
      " 6   Dangerous  5000 non-null   object\n",
      " 7   Gender     5000 non-null   object\n",
      " 8   Age        5000 non-null   int64 \n",
      "dtypes: int64(1), object(8)\n",
      "memory usage: 351.7+ KB\n"
     ]
    }
   ],
   "execution_count": 3
  },
  {
   "metadata": {
    "ExecuteTime": {
     "end_time": "2025-09-10T09:00:25.442231Z",
     "start_time": "2025-09-10T09:00:25.430123Z"
    }
   },
   "cell_type": "code",
   "source": [
    "freq_df = pd.DataFrame()\n",
    "\n",
    "for symptoms_col in [f\"symptoms{i}\" for i in range(1, 6)]:\n",
    "    freq = df[symptoms_col].value_counts().to_numpy()\n",
    "    print(f\"Выборочное среднее для {symptoms_col}: \", freq.mean())\n",
    "    print(f\"Выборочная дисперсия для {symptoms_col}: \", freq.var())\n",
    "    print(\"------\")\n",
    "\n"
   ],
   "id": "c0cca78d5dfa5ae9",
   "outputs": [
    {
     "name": "stdout",
     "output_type": "stream",
     "text": [
      "Выборочное среднее для symptoms1:  23.696682464454977\n",
      "Выборочная дисперсия для symptoms1:  7758.448282832821\n",
      "------\n",
      "Выборочное среднее для symptoms2:  23.80952380952381\n",
      "Выборочная дисперсия для symptoms2:  5768.106575963717\n",
      "------\n",
      "Выборочное среднее для symptoms3:  22.93577981651376\n",
      "Выборочная дисперсия для symptoms3:  2909.509637235923\n",
      "------\n",
      "Выборочное среднее для symptoms4:  25.0\n",
      "Выборочная дисперсия для symptoms4:  5604.9\n",
      "------\n",
      "Выборочное среднее для symptoms5:  27.027027027027028\n",
      "Выборочная дисперсия для symptoms5:  5111.107377647917\n",
      "------\n"
     ]
    }
   ],
   "execution_count": 4
  },
  {
   "metadata": {},
   "cell_type": "markdown",
   "source": "2. Считаем степень совпадения симптомов в различных столбцах",
   "id": "6ad850674ac2195f"
  },
  {
   "metadata": {
    "ExecuteTime": {
     "end_time": "2025-09-10T09:00:59.088907Z",
     "start_time": "2025-09-10T09:00:59.063074Z"
    }
   },
   "cell_type": "code",
   "source": [
    "import itertools\n",
    "\n",
    "for symptoms_col1, symptoms_col2 in itertools.combinations([f\"symptoms{i}\" for i in range(1, 6)], 2):\n",
    "    sym1 = set(df[symptoms_col1].dropna())\n",
    "    sym2 = set(df[symptoms_col2].dropna())\n",
    "    jaccard = len(sym1 & sym2) / len(sym1 | sym2)\n",
    "    print(f\"Степень совпадения по жакарра для {symptoms_col1} и {symptoms_col2}: {jaccard}\")\n",
    "\n",
    "\n"
   ],
   "id": "6ad6aa31ab116877",
   "outputs": [
    {
     "name": "stdout",
     "output_type": "stream",
     "text": [
      "Степень совпадения по жакарра для symptoms1 и symptoms2: 0.03950617283950617\n",
      "Степень совпадения по жакарра для symptoms1 и symptoms3: 0.051470588235294115\n",
      "Степень совпадения по жакарра для symptoms1 и symptoms4: 0.05384615384615385\n",
      "Степень совпадения по жакарра для symptoms1 и symptoms5: 0.044854881266490766\n",
      "Степень совпадения по жакарра для symptoms2 и symptoms3: 0.06467661691542288\n",
      "Степень совпадения по жакарра для symptoms2 и symptoms4: 0.06770833333333333\n",
      "Степень совпадения по жакарра для symptoms2 и symptoms5: 0.07046070460704607\n",
      "Степень совпадения по жакарра для symptoms3 и symptoms4: 0.08290155440414508\n",
      "Степень совпадения по жакарра для symptoms3 и symptoms5: 0.07466666666666667\n",
      "Степень совпадения по жакарра для symptoms4 и symptoms5: 0.07541899441340782\n"
     ]
    }
   ],
   "execution_count": 5
  },
  {
   "metadata": {},
   "cell_type": "code",
   "outputs": [],
   "execution_count": null,
   "source": "",
   "id": "f21e0c20e931f7c9"
  }
 ],
 "metadata": {
  "kernelspec": {
   "display_name": "Python 3",
   "language": "python",
   "name": "python3"
  },
  "language_info": {
   "codemirror_mode": {
    "name": "ipython",
    "version": 2
   },
   "file_extension": ".py",
   "mimetype": "text/x-python",
   "name": "python",
   "nbconvert_exporter": "python",
   "pygments_lexer": "ipython2",
   "version": "2.7.6"
  }
 },
 "nbformat": 4,
 "nbformat_minor": 5
}
