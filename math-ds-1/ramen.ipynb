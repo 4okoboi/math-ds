{
 "cells": [
  {
   "metadata": {
    "ExecuteTime": {
     "end_time": "2025-09-03T08:22:30.412087Z",
     "start_time": "2025-09-03T08:20:00.605499Z"
    }
   },
   "cell_type": "code",
   "source": "!pip install pandas numby torch torchvision",
   "id": "fbc121e30a2defb3",
   "outputs": [
    {
     "name": "stdout",
     "output_type": "stream",
     "text": [
      "Requirement already satisfied: pandas in ./.venv/lib/python3.13/site-packages (2.3.2)\r\n",
      "Collecting numby\r\n",
      "  Downloading numby-0.2.0-py3-none-any.whl.metadata (380 bytes)\r\n",
      "Collecting torch\r\n",
      "  Downloading torch-2.8.0-cp313-none-macosx_11_0_arm64.whl.metadata (30 kB)\r\n",
      "Collecting torchvision\r\n",
      "  Downloading torchvision-0.23.0-cp313-cp313-macosx_11_0_arm64.whl.metadata (6.1 kB)\r\n",
      "Requirement already satisfied: numpy>=1.26.0 in ./.venv/lib/python3.13/site-packages (from pandas) (2.3.2)\r\n",
      "Requirement already satisfied: python-dateutil>=2.8.2 in ./.venv/lib/python3.13/site-packages (from pandas) (2.9.0.post0)\r\n",
      "Requirement already satisfied: pytz>=2020.1 in ./.venv/lib/python3.13/site-packages (from pandas) (2025.2)\r\n",
      "Requirement already satisfied: tzdata>=2022.7 in ./.venv/lib/python3.13/site-packages (from pandas) (2025.2)\r\n",
      "Collecting filelock (from torch)\r\n",
      "  Downloading filelock-3.19.1-py3-none-any.whl.metadata (2.1 kB)\r\n",
      "Requirement already satisfied: typing-extensions>=4.10.0 in ./.venv/lib/python3.13/site-packages (from torch) (4.15.0)\r\n",
      "Requirement already satisfied: setuptools in ./.venv/lib/python3.13/site-packages (from torch) (80.9.0)\r\n",
      "Collecting sympy>=1.13.3 (from torch)\r\n",
      "  Downloading sympy-1.14.0-py3-none-any.whl.metadata (12 kB)\r\n",
      "Collecting networkx (from torch)\r\n",
      "  Downloading networkx-3.5-py3-none-any.whl.metadata (6.3 kB)\r\n",
      "Requirement already satisfied: jinja2 in ./.venv/lib/python3.13/site-packages (from torch) (3.1.6)\r\n",
      "Collecting fsspec (from torch)\r\n",
      "  Downloading fsspec-2025.9.0-py3-none-any.whl.metadata (10 kB)\r\n",
      "Requirement already satisfied: pillow!=8.3.*,>=5.3.0 in ./.venv/lib/python3.13/site-packages (from torchvision) (11.3.0)\r\n",
      "Requirement already satisfied: six>=1.5 in ./.venv/lib/python3.13/site-packages (from python-dateutil>=2.8.2->pandas) (1.17.0)\r\n",
      "Collecting mpmath<1.4,>=1.1.0 (from sympy>=1.13.3->torch)\r\n",
      "  Using cached mpmath-1.3.0-py3-none-any.whl.metadata (8.6 kB)\r\n",
      "Requirement already satisfied: MarkupSafe>=2.0 in ./.venv/lib/python3.13/site-packages (from jinja2->torch) (3.0.2)\r\n",
      "Downloading numby-0.2.0-py3-none-any.whl (1.1 kB)\r\n",
      "Downloading torch-2.8.0-cp313-none-macosx_11_0_arm64.whl (73.6 MB)\r\n",
      "\u001B[2K   \u001B[90m━━━━━━━━━━━━━━━━━━━━━━━━━━━━━━━━━━━━━━━━\u001B[0m \u001B[32m73.6/73.6 MB\u001B[0m \u001B[31m139.6 kB/s\u001B[0m eta \u001B[36m0:00:00\u001B[0m00:02\u001B[0m00:09\u001B[0m\r\n",
      "\u001B[?25hDownloading torchvision-0.23.0-cp313-cp313-macosx_11_0_arm64.whl (1.9 MB)\r\n",
      "\u001B[2K   \u001B[90m━━━━━━━━━━━━━━━━━━━━━━━━━━━━━━━━━━━━━━━━\u001B[0m \u001B[32m1.9/1.9 MB\u001B[0m \u001B[31m317.5 kB/s\u001B[0m eta \u001B[36m0:00:00\u001B[0ma \u001B[36m0:00:01\u001B[0m\r\n",
      "\u001B[?25hDownloading sympy-1.14.0-py3-none-any.whl (6.3 MB)\r\n",
      "\u001B[2K   \u001B[90m━━━━━━━━━━━━━━━━━━━━━━━━━━━━━━━━━━━━━━━━\u001B[0m \u001B[32m6.3/6.3 MB\u001B[0m \u001B[31m365.3 kB/s\u001B[0m eta \u001B[36m0:00:00\u001B[0ma \u001B[36m0:00:01\u001B[0m\r\n",
      "\u001B[?25hDownloading filelock-3.19.1-py3-none-any.whl (15 kB)\r\n",
      "Downloading fsspec-2025.9.0-py3-none-any.whl (199 kB)\r\n",
      "Downloading networkx-3.5-py3-none-any.whl (2.0 MB)\r\n",
      "\u001B[2K   \u001B[90m━━━━━━━━━━━━━━━━━━━━━━━━━━━━━━━━━━━━━━━━\u001B[0m \u001B[32m2.0/2.0 MB\u001B[0m \u001B[31m952.4 kB/s\u001B[0m eta \u001B[36m0:00:00\u001B[0ma \u001B[36m0:00:01\u001B[0m\r\n",
      "\u001B[?25hDownloading mpmath-1.3.0-py3-none-any.whl (536 kB)\r\n",
      "\u001B[2K   \u001B[90m━━━━━━━━━━━━━━━━━━━━━━━━━━━━━━━━━━━━━━━\u001B[0m \u001B[32m536.2/536.2 kB\u001B[0m \u001B[31m752.2 kB/s\u001B[0m eta \u001B[36m0:00:00\u001B[0m:--:--\u001B[0m\r\n",
      "\u001B[?25hInstalling collected packages: mpmath, sympy, numby, networkx, fsspec, filelock, torch, torchvision\r\n",
      "Successfully installed filelock-3.19.1 fsspec-2025.9.0 mpmath-1.3.0 networkx-3.5 numby-0.2.0 sympy-1.14.0 torch-2.8.0 torchvision-0.23.0\r\n",
      "\r\n",
      "\u001B[1m[\u001B[0m\u001B[34;49mnotice\u001B[0m\u001B[1;39;49m]\u001B[0m\u001B[39;49m A new release of pip is available: \u001B[0m\u001B[31;49m24.3.1\u001B[0m\u001B[39;49m -> \u001B[0m\u001B[32;49m25.2\u001B[0m\r\n",
      "\u001B[1m[\u001B[0m\u001B[34;49mnotice\u001B[0m\u001B[1;39;49m]\u001B[0m\u001B[39;49m To update, run: \u001B[0m\u001B[32;49mpip install --upgrade pip\u001B[0m\r\n"
     ]
    }
   ],
   "execution_count": 1
  },
  {
   "metadata": {
    "ExecuteTime": {
     "end_time": "2025-09-10T08:57:29.018037Z",
     "start_time": "2025-09-10T08:57:28.520192Z"
    }
   },
   "cell_type": "code",
   "source": [
    "import pandas as pd\n",
    "import numpy as np"
   ],
   "id": "43fd88fa178f38d9",
   "outputs": [],
   "execution_count": 3
  },
  {
   "metadata": {
    "ExecuteTime": {
     "end_time": "2025-09-10T08:57:29.746973Z",
     "start_time": "2025-09-10T08:57:29.733789Z"
    }
   },
   "cell_type": "code",
   "source": "df = pd.read_csv('ramen-ratings.csv')",
   "id": "d7333bbf3423339c",
   "outputs": [],
   "execution_count": 4
  },
  {
   "metadata": {
    "ExecuteTime": {
     "end_time": "2025-09-10T09:01:59.643824Z",
     "start_time": "2025-09-10T09:01:59.637319Z"
    }
   },
   "cell_type": "code",
   "source": "df['Stars'] = pd.to_numeric(df['Stars'], errors='coerce')",
   "id": "be606e214c44f85f",
   "outputs": [],
   "execution_count": 17
  },
  {
   "metadata": {
    "ExecuteTime": {
     "end_time": "2025-09-03T08:30:56.118154Z",
     "start_time": "2025-09-03T08:30:56.112409Z"
    }
   },
   "cell_type": "code",
   "source": "df['Stars'].unique()",
   "id": "d138baee5bd87ef9",
   "outputs": [
    {
     "data": {
      "text/plain": [
       "array([3.75 , 1.   , 2.25 , 2.75 , 4.75 , 4.   , 0.25 , 2.5  , 5.   ,\n",
       "       4.25 , 4.5  , 3.5  ,   nan, 1.5  , 3.25 , 2.   , 0.   , 3.   ,\n",
       "       0.5  , 3.8  , 4.3  , 2.3  , 3.3  , 1.75 , 0.75 , 1.25 , 1.1  ,\n",
       "       2.1  , 0.9  , 3.1  , 4.125, 3.125, 2.125, 2.9  , 0.1  , 2.8  ,\n",
       "       3.7  , 3.4  , 3.6  , 2.85 , 3.2  , 3.65 , 1.8  ])"
      ]
     },
     "execution_count": 14,
     "metadata": {},
     "output_type": "execute_result"
    }
   ],
   "execution_count": 14
  },
  {
   "metadata": {
    "ExecuteTime": {
     "end_time": "2025-09-03T08:30:57.157967Z",
     "start_time": "2025-09-03T08:30:57.142122Z"
    }
   },
   "cell_type": "code",
   "source": [
    "df.head()\n",
    "df.tail()\n",
    "df.info()\n",
    "df.describe()"
   ],
   "id": "b07350c13bef6009",
   "outputs": [
    {
     "name": "stdout",
     "output_type": "stream",
     "text": [
      "<class 'pandas.core.frame.DataFrame'>\n",
      "RangeIndex: 2580 entries, 0 to 2579\n",
      "Data columns (total 7 columns):\n",
      " #   Column    Non-Null Count  Dtype  \n",
      "---  ------    --------------  -----  \n",
      " 0   Review #  2580 non-null   int64  \n",
      " 1   Brand     2580 non-null   object \n",
      " 2   Variety   2580 non-null   object \n",
      " 3   Style     2578 non-null   object \n",
      " 4   Country   2580 non-null   object \n",
      " 5   Stars     2577 non-null   float64\n",
      " 6   Top Ten   41 non-null     object \n",
      "dtypes: float64(1), int64(1), object(5)\n",
      "memory usage: 141.2+ KB\n"
     ]
    },
    {
     "data": {
      "text/plain": [
       "          Review #        Stars\n",
       "count  2580.000000  2577.000000\n",
       "mean   1290.500000     3.654676\n",
       "std     744.926171     1.015331\n",
       "min       1.000000     0.000000\n",
       "25%     645.750000     3.250000\n",
       "50%    1290.500000     3.750000\n",
       "75%    1935.250000     4.250000\n",
       "max    2580.000000     5.000000"
      ],
      "text/html": [
       "<div>\n",
       "<style scoped>\n",
       "    .dataframe tbody tr th:only-of-type {\n",
       "        vertical-align: middle;\n",
       "    }\n",
       "\n",
       "    .dataframe tbody tr th {\n",
       "        vertical-align: top;\n",
       "    }\n",
       "\n",
       "    .dataframe thead th {\n",
       "        text-align: right;\n",
       "    }\n",
       "</style>\n",
       "<table border=\"1\" class=\"dataframe\">\n",
       "  <thead>\n",
       "    <tr style=\"text-align: right;\">\n",
       "      <th></th>\n",
       "      <th>Review #</th>\n",
       "      <th>Stars</th>\n",
       "    </tr>\n",
       "  </thead>\n",
       "  <tbody>\n",
       "    <tr>\n",
       "      <th>count</th>\n",
       "      <td>2580.000000</td>\n",
       "      <td>2577.000000</td>\n",
       "    </tr>\n",
       "    <tr>\n",
       "      <th>mean</th>\n",
       "      <td>1290.500000</td>\n",
       "      <td>3.654676</td>\n",
       "    </tr>\n",
       "    <tr>\n",
       "      <th>std</th>\n",
       "      <td>744.926171</td>\n",
       "      <td>1.015331</td>\n",
       "    </tr>\n",
       "    <tr>\n",
       "      <th>min</th>\n",
       "      <td>1.000000</td>\n",
       "      <td>0.000000</td>\n",
       "    </tr>\n",
       "    <tr>\n",
       "      <th>25%</th>\n",
       "      <td>645.750000</td>\n",
       "      <td>3.250000</td>\n",
       "    </tr>\n",
       "    <tr>\n",
       "      <th>50%</th>\n",
       "      <td>1290.500000</td>\n",
       "      <td>3.750000</td>\n",
       "    </tr>\n",
       "    <tr>\n",
       "      <th>75%</th>\n",
       "      <td>1935.250000</td>\n",
       "      <td>4.250000</td>\n",
       "    </tr>\n",
       "    <tr>\n",
       "      <th>max</th>\n",
       "      <td>2580.000000</td>\n",
       "      <td>5.000000</td>\n",
       "    </tr>\n",
       "  </tbody>\n",
       "</table>\n",
       "</div>"
      ]
     },
     "execution_count": 15,
     "metadata": {},
     "output_type": "execute_result"
    }
   ],
   "execution_count": 15
  },
  {
   "metadata": {
    "ExecuteTime": {
     "end_time": "2025-09-03T08:31:14.650042Z",
     "start_time": "2025-09-03T08:31:14.638227Z"
    }
   },
   "cell_type": "code",
   "source": "df.groupby('Country')['Stars'].mean().sort_values(ascending=False)",
   "id": "ec8b29054383a862",
   "outputs": [
    {
     "data": {
      "text/plain": [
       "Country\n",
       "Brazil           4.350000\n",
       "Sarawak          4.333333\n",
       "Cambodia         4.200000\n",
       "Malaysia         4.154194\n",
       "Singapore        4.126147\n",
       "Indonesia        4.067460\n",
       "Japan            3.981605\n",
       "Myanmar          3.946429\n",
       "Fiji             3.875000\n",
       "Hong Kong        3.801825\n",
       "South Korea      3.790554\n",
       "United States    3.750000\n",
       "Mexico           3.730000\n",
       "Bangladesh       3.714286\n",
       "Taiwan           3.665402\n",
       "Germany          3.638889\n",
       "Poland           3.625000\n",
       "Hungary          3.611111\n",
       "Dubai            3.583333\n",
       "Finland          3.583333\n",
       "Holland          3.562500\n",
       "Nepal            3.553571\n",
       "Estonia          3.500000\n",
       "Ghana            3.500000\n",
       "USA              3.457043\n",
       "China            3.421893\n",
       "India            3.395161\n",
       "Thailand         3.384817\n",
       "Philippines      3.329787\n",
       "Colombia         3.291667\n",
       "Sweden           3.250000\n",
       "Vietnam          3.187963\n",
       "Australia        3.138636\n",
       "Pakistan         3.000000\n",
       "UK               2.997101\n",
       "Netherlands      2.483333\n",
       "Canada           2.243902\n",
       "Nigeria          1.500000\n",
       "Name: Stars, dtype: float64"
      ]
     },
     "execution_count": 16,
     "metadata": {},
     "output_type": "execute_result"
    }
   ],
   "execution_count": 16
  },
  {
   "metadata": {
    "ExecuteTime": {
     "end_time": "2025-09-03T08:31:23.076610Z",
     "start_time": "2025-09-03T08:31:22.541139Z"
    }
   },
   "cell_type": "code",
   "source": "!pip install matplotlib",
   "id": "34b7a88bd9ee6c83",
   "outputs": [
    {
     "name": "stdout",
     "output_type": "stream",
     "text": [
      "Requirement already satisfied: matplotlib in ./.venv/lib/python3.13/site-packages (3.10.6)\r\n",
      "Requirement already satisfied: contourpy>=1.0.1 in ./.venv/lib/python3.13/site-packages (from matplotlib) (1.3.3)\r\n",
      "Requirement already satisfied: cycler>=0.10 in ./.venv/lib/python3.13/site-packages (from matplotlib) (0.12.1)\r\n",
      "Requirement already satisfied: fonttools>=4.22.0 in ./.venv/lib/python3.13/site-packages (from matplotlib) (4.59.2)\r\n",
      "Requirement already satisfied: kiwisolver>=1.3.1 in ./.venv/lib/python3.13/site-packages (from matplotlib) (1.4.9)\r\n",
      "Requirement already satisfied: numpy>=1.23 in ./.venv/lib/python3.13/site-packages (from matplotlib) (2.3.2)\r\n",
      "Requirement already satisfied: packaging>=20.0 in ./.venv/lib/python3.13/site-packages (from matplotlib) (25.0)\r\n",
      "Requirement already satisfied: pillow>=8 in ./.venv/lib/python3.13/site-packages (from matplotlib) (11.3.0)\r\n",
      "Requirement already satisfied: pyparsing>=2.3.1 in ./.venv/lib/python3.13/site-packages (from matplotlib) (3.2.3)\r\n",
      "Requirement already satisfied: python-dateutil>=2.7 in ./.venv/lib/python3.13/site-packages (from matplotlib) (2.9.0.post0)\r\n",
      "Requirement already satisfied: six>=1.5 in ./.venv/lib/python3.13/site-packages (from python-dateutil>=2.7->matplotlib) (1.17.0)\r\n",
      "\r\n",
      "\u001B[1m[\u001B[0m\u001B[34;49mnotice\u001B[0m\u001B[1;39;49m]\u001B[0m\u001B[39;49m A new release of pip is available: \u001B[0m\u001B[31;49m24.3.1\u001B[0m\u001B[39;49m -> \u001B[0m\u001B[32;49m25.2\u001B[0m\r\n",
      "\u001B[1m[\u001B[0m\u001B[34;49mnotice\u001B[0m\u001B[1;39;49m]\u001B[0m\u001B[39;49m To update, run: \u001B[0m\u001B[32;49mpip install --upgrade pip\u001B[0m\r\n"
     ]
    }
   ],
   "execution_count": 17
  },
  {
   "metadata": {
    "ExecuteTime": {
     "end_time": "2025-09-03T08:31:44.044350Z",
     "start_time": "2025-09-03T08:31:44.041431Z"
    }
   },
   "cell_type": "code",
   "source": "import matplotlib.pyplot as plt",
   "id": "f4e534cb6cf03951",
   "outputs": [],
   "execution_count": 19
  },
  {
   "metadata": {
    "ExecuteTime": {
     "end_time": "2025-09-03T08:32:05.080980Z",
     "start_time": "2025-09-03T08:32:05.075514Z"
    }
   },
   "cell_type": "code",
   "source": "stars = df['Stars'].dropna().to_numpy()",
   "id": "5091089485a343ab",
   "outputs": [],
   "execution_count": 20
  },
  {
   "metadata": {
    "ExecuteTime": {
     "end_time": "2025-09-03T08:32:37.634908Z",
     "start_time": "2025-09-03T08:32:37.630242Z"
    }
   },
   "cell_type": "code",
   "source": [
    "mean_np = np.mean(stars)\n",
    "var_np = np.var(stars)"
   ],
   "id": "6e0819698e9b94f8",
   "outputs": [],
   "execution_count": 23
  },
  {
   "metadata": {
    "ExecuteTime": {
     "end_time": "2025-09-03T08:32:44.284755Z",
     "start_time": "2025-09-03T08:32:44.282134Z"
    }
   },
   "cell_type": "code",
   "source": "mean_np, var_np",
   "id": "b9cef8feb74d9062",
   "outputs": [
    {
     "data": {
      "text/plain": [
       "(np.float64(3.6546759798214974), np.float64(1.0304961794501943))"
      ]
     },
     "execution_count": 24,
     "metadata": {},
     "output_type": "execute_result"
    }
   ],
   "execution_count": 24
  },
  {
   "metadata": {
    "ExecuteTime": {
     "end_time": "2025-09-03T08:33:25.853509Z",
     "start_time": "2025-09-03T08:33:25.849750Z"
    }
   },
   "cell_type": "code",
   "source": [
    "d2 = stars - mean_np\n",
    "np.sum(d2 ** 2) / len(stars)"
   ],
   "id": "5d893f4349e29c4f",
   "outputs": [
    {
     "data": {
      "text/plain": [
       "np.float64(1.0304961794501943)"
      ]
     },
     "execution_count": 25,
     "metadata": {},
     "output_type": "execute_result"
    }
   ],
   "execution_count": 25
  },
  {
   "metadata": {},
   "cell_type": "markdown",
   "source": "1) Распределение оценок по странам",
   "id": "c5be93e04f7e82a6"
  },
  {
   "metadata": {
    "ExecuteTime": {
     "end_time": "2025-09-03T08:56:25.182682Z",
     "start_time": "2025-09-03T08:56:25.172268Z"
    }
   },
   "cell_type": "code",
   "source": [
    "# получим топ 3 страны по средним оценкам\n",
    "df_for_view = df.groupby('Country')['Stars'].mean().sort_values(ascending=False).head(3)\n",
    "top_countries = df_for_view.index.tolist()"
   ],
   "id": "f5f5f7ab035ffcee",
   "outputs": [],
   "execution_count": 51
  },
  {
   "metadata": {
    "ExecuteTime": {
     "end_time": "2025-09-03T08:56:53.500721Z",
     "start_time": "2025-09-03T08:56:53.495653Z"
    }
   },
   "cell_type": "code",
   "source": [
    "# берем данные из фрейма ток по этим странам\n",
    "df_for_view = df[df['Country'].isin(top_countries)]"
   ],
   "id": "c56c8c884475234b",
   "outputs": [],
   "execution_count": 53
  },
  {
   "metadata": {
    "ExecuteTime": {
     "end_time": "2025-09-03T19:50:32.312946Z",
     "start_time": "2025-09-03T19:50:32.238623Z"
    }
   },
   "cell_type": "code",
   "source": [
    "\n",
    "data_by_country = [df_for_view[df_for_view[\"Country\"] == c][\"Stars\"].values for c in top_countries]\n",
    "\n",
    "plt.boxplot(data_by_country, tick_labels=top_countries, patch_artist=True)\n",
    "plt.title(\"Распределение оценок\")\n",
    "plt.xlabel(\"Country\")\n",
    "plt.ylabel(\"Stars\")\n",
    "plt.show()"
   ],
   "id": "9229e190790a89df",
   "outputs": [
    {
     "data": {
      "text/plain": [
       "<Figure size 640x480 with 1 Axes>"
      ],
      "image/png": "[encoded data removed]"
     },
     "metadata": {},
     "output_type": "display_data",
     "jetTransient": {
      "display_id": null
     }
    }
   ],
   "execution_count": 58
  },
  {
   "metadata": {},
   "cell_type": "markdown",
   "source": "2) Нормализация оценок по странам",
   "id": "b8451e739672ee14"
  },
  {
   "metadata": {
    "ExecuteTime": {
     "end_time": "2025-09-03T20:14:20.202224Z",
     "start_time": "2025-09-03T20:14:20.185411Z"
    }
   },
   "cell_type": "code",
   "source": [
    "def z_norm(x: pd.Series) -> pd.Series:\n",
    "    return (x - x.mean()) / x.std()\n",
    "\n",
    "# transform применяет для каждого элемента векторов Stars функцию\n",
    "df[\"Stars_z_normalized\"] = df.groupby(\"Country\")[\"Stars\"].transform(z_norm)\n",
    "df"
   ],
   "id": "59536216917e93d6",
   "outputs": [
    {
     "data": {
      "text/plain": [
       "      Review #           Brand  \\\n",
       "0         2580       New Touch   \n",
       "1         2579        Just Way   \n",
       "2         2578          Nissin   \n",
       "3         2577         Wei Lih   \n",
       "4         2576  Ching's Secret   \n",
       "...        ...             ...   \n",
       "2575         5           Vifon   \n",
       "2576         4         Wai Wai   \n",
       "2577         3         Wai Wai   \n",
       "2578         2         Wai Wai   \n",
       "2579         1        Westbrae   \n",
       "\n",
       "                                                Variety Style   Country  \\\n",
       "0                             T's Restaurant Tantanmen    Cup     Japan   \n",
       "1     Noodles Spicy Hot Sesame Spicy Hot Sesame Guan...  Pack    Taiwan   \n",
       "2                         Cup Noodles Chicken Vegetable   Cup       USA   \n",
       "3                         GGE Ramen Snack Tomato Flavor  Pack    Taiwan   \n",
       "4                                       Singapore Curry  Pack     India   \n",
       "...                                                 ...   ...       ...   \n",
       "2575  Hu Tiu Nam Vang [\"Phnom Penh\" style] Asian Sty...  Bowl   Vietnam   \n",
       "2576                     Oriental Style Instant Noodles  Pack  Thailand   \n",
       "2577                                     Tom Yum Shrimp  Pack  Thailand   \n",
       "2578                               Tom Yum Chili Flavor  Pack  Thailand   \n",
       "2579                                         Miso Ramen  Pack       USA   \n",
       "\n",
       "      Stars Top Ten  Stars_z_normalized  \n",
       "0      3.75     NaN           -0.253465  \n",
       "1      1.00     NaN           -2.306518  \n",
       "2      2.25     NaN           -1.143279  \n",
       "3      2.75     NaN           -0.792147  \n",
       "4      3.75     NaN            0.394901  \n",
       "...     ...     ...                 ...  \n",
       "2575   3.50     NaN            0.367003  \n",
       "2576   1.00     NaN           -2.434788  \n",
       "2577   2.00     NaN           -1.413834  \n",
       "2578   2.00     NaN           -1.413834  \n",
       "2579   0.50     NaN           -2.800832  \n",
       "\n",
       "[2580 rows x 8 columns]"
      ],
      "text/html": [
       "<div>\n",
       "<style scoped>\n",
       "    .dataframe tbody tr th:only-of-type {\n",
       "        vertical-align: middle;\n",
       "    }\n",
       "\n",
       "    .dataframe tbody tr th {\n",
       "        vertical-align: top;\n",
       "    }\n",
       "\n",
       "    .dataframe thead th {\n",
       "        text-align: right;\n",
       "    }\n",
       "</style>\n",
       "<table border=\"1\" class=\"dataframe\">\n",
       "  <thead>\n",
       "    <tr style=\"text-align: right;\">\n",
       "      <th></th>\n",
       "      <th>Review #</th>\n",
       "      <th>Brand</th>\n",
       "      <th>Variety</th>\n",
       "      <th>Style</th>\n",
       "      <th>Country</th>\n",
       "      <th>Stars</th>\n",
       "      <th>Top Ten</th>\n",
       "      <th>Stars_z_normalized</th>\n",
       "    </tr>\n",
       "  </thead>\n",
       "  <tbody>\n",
       "    <tr>\n",
       "      <th>0</th>\n",
       "      <td>2580</td>\n",
       "      <td>New Touch</td>\n",
       "      <td>T's Restaurant Tantanmen</td>\n",
       "      <td>Cup</td>\n",
       "      <td>Japan</td>\n",
       "      <td>3.75</td>\n",
       "      <td>NaN</td>\n",
       "      <td>-0.253465</td>\n",
       "    </tr>\n",
       "    <tr>\n",
       "      <th>1</th>\n",
       "      <td>2579</td>\n",
       "      <td>Just Way</td>\n",
       "      <td>Noodles Spicy Hot Sesame Spicy Hot Sesame Guan...</td>\n",
       "      <td>Pack</td>\n",
       "      <td>Taiwan</td>\n",
       "      <td>1.00</td>\n",
       "      <td>NaN</td>\n",
       "      <td>-2.306518</td>\n",
       "    </tr>\n",
       "    <tr>\n",
       "      <th>2</th>\n",
       "      <td>2578</td>\n",
       "      <td>Nissin</td>\n",
       "      <td>Cup Noodles Chicken Vegetable</td>\n",
       "      <td>Cup</td>\n",
       "      <td>USA</td>\n",
       "      <td>2.25</td>\n",
       "      <td>NaN</td>\n",
       "      <td>-1.143279</td>\n",
       "    </tr>\n",
       "    <tr>\n",
       "      <th>3</th>\n",
       "      <td>2577</td>\n",
       "      <td>Wei Lih</td>\n",
       "      <td>GGE Ramen Snack Tomato Flavor</td>\n",
       "      <td>Pack</td>\n",
       "      <td>Taiwan</td>\n",
       "      <td>2.75</td>\n",
       "      <td>NaN</td>\n",
       "      <td>-0.792147</td>\n",
       "    </tr>\n",
       "    <tr>\n",
       "      <th>4</th>\n",
       "      <td>2576</td>\n",
       "      <td>Ching's Secret</td>\n",
       "      <td>Singapore Curry</td>\n",
       "      <td>Pack</td>\n",
       "      <td>India</td>\n",
       "      <td>3.75</td>\n",
       "      <td>NaN</td>\n",
       "      <td>0.394901</td>\n",
       "    </tr>\n",
       "    <tr>\n",
       "      <th>...</th>\n",
       "      <td>...</td>\n",
       "      <td>...</td>\n",
       "      <td>...</td>\n",
       "      <td>...</td>\n",
       "      <td>...</td>\n",
       "      <td>...</td>\n",
       "      <td>...</td>\n",
       "      <td>...</td>\n",
       "    </tr>\n",
       "    <tr>\n",
       "      <th>2575</th>\n",
       "      <td>5</td>\n",
       "      <td>Vifon</td>\n",
       "      <td>Hu Tiu Nam Vang [\"Phnom Penh\" style] Asian Sty...</td>\n",
       "      <td>Bowl</td>\n",
       "      <td>Vietnam</td>\n",
       "      <td>3.50</td>\n",
       "      <td>NaN</td>\n",
       "      <td>0.367003</td>\n",
       "    </tr>\n",
       "    <tr>\n",
       "      <th>2576</th>\n",
       "      <td>4</td>\n",
       "      <td>Wai Wai</td>\n",
       "      <td>Oriental Style Instant Noodles</td>\n",
       "      <td>Pack</td>\n",
       "      <td>Thailand</td>\n",
       "      <td>1.00</td>\n",
       "      <td>NaN</td>\n",
       "      <td>-2.434788</td>\n",
       "    </tr>\n",
       "    <tr>\n",
       "      <th>2577</th>\n",
       "      <td>3</td>\n",
       "      <td>Wai Wai</td>\n",
       "      <td>Tom Yum Shrimp</td>\n",
       "      <td>Pack</td>\n",
       "      <td>Thailand</td>\n",
       "      <td>2.00</td>\n",
       "      <td>NaN</td>\n",
       "      <td>-1.413834</td>\n",
       "    </tr>\n",
       "    <tr>\n",
       "      <th>2578</th>\n",
       "      <td>2</td>\n",
       "      <td>Wai Wai</td>\n",
       "      <td>Tom Yum Chili Flavor</td>\n",
       "      <td>Pack</td>\n",
       "      <td>Thailand</td>\n",
       "      <td>2.00</td>\n",
       "      <td>NaN</td>\n",
       "      <td>-1.413834</td>\n",
       "    </tr>\n",
       "    <tr>\n",
       "      <th>2579</th>\n",
       "      <td>1</td>\n",
       "      <td>Westbrae</td>\n",
       "      <td>Miso Ramen</td>\n",
       "      <td>Pack</td>\n",
       "      <td>USA</td>\n",
       "      <td>0.50</td>\n",
       "      <td>NaN</td>\n",
       "      <td>-2.800832</td>\n",
       "    </tr>\n",
       "  </tbody>\n",
       "</table>\n",
       "<p>2580 rows × 8 columns</p>\n",
       "</div>"
      ]
     },
     "execution_count": 64,
     "metadata": {},
     "output_type": "execute_result"
    }
   ],
   "execution_count": 64
  },
  {
   "metadata": {},
   "cell_type": "markdown",
   "source": "3) Топ-5 по странам",
   "id": "1b82f2f91067ed78"
  },
  {
   "metadata": {},
   "cell_type": "markdown",
   "source": [
    "Вообще, задание чуть двоякое, поэтому сделаю для каждой интерпритации:\n",
    "1) Вывести топ в каждой стране\n",
    "2) Между всеми странами\n"
   ],
   "id": "4d883a491c4c8d25"
  },
  {
   "metadata": {
    "ExecuteTime": {
     "end_time": "2025-09-03T20:25:22.406249Z",
     "start_time": "2025-09-03T20:25:22.397301Z"
    }
   },
   "cell_type": "code",
   "source": [
    "# первая\n",
    "df.sort_values([\"Country\", \"Stars\"], ascending=[True, False]).groupby(\"Country\").head(5)"
   ],
   "id": "7e75eb7a276a1bfc",
   "outputs": [
    {
     "data": {
      "text/plain": [
       "      Review #         Brand  \\\n",
       "512       2068         Maggi   \n",
       "538       2042        Suimin   \n",
       "272       2308     Fantastic   \n",
       "306       2274        Suimin   \n",
       "327       2253      Singa-Me   \n",
       "...        ...           ...   \n",
       "226       2354         Vifon   \n",
       "2133       447       Ve Wong   \n",
       "2218       362  Vina Acecook   \n",
       "1725       855  Vina Acecook   \n",
       "1991       589         Vifon   \n",
       "\n",
       "                                                Variety Style    Country  \\\n",
       "512   Fusian Special Edition Ow... Ow... Spicy Cow M...  Pack  Australia   \n",
       "538                                   Noodles Mi Goreng   Cup  Australia   \n",
       "272                   Noodles Chicken Chow Mein Flavour   Cup  Australia   \n",
       "306                   Noodles With Braised Beef Flavour   Cup  Australia   \n",
       "327                   Instant Noodles Mi Goreng Flavour   Cup  Australia   \n",
       "...                                                 ...   ...        ...   \n",
       "226   Viet Cuisine Bun Rieu Cua Sour Crab Soup Insta...  Bowl    Vietnam   \n",
       "2133                                Little Prince Bacon  Pack    Vietnam   \n",
       "2218                       Daily Hot & Sour With Shrimp  Pack    Vietnam   \n",
       "1725                         Bestcook Hot & Sour Shrimp  Bowl    Vietnam   \n",
       "1991                        South Korean Style Kim Chee  Bowl    Vietnam   \n",
       "\n",
       "      Stars Top Ten  Stars_z_normalized  \n",
       "512    5.00     NaN            2.079233  \n",
       "538    4.30     NaN            1.297299  \n",
       "272    4.00     NaN            0.962185  \n",
       "306    4.00     NaN            0.962185  \n",
       "327    4.00     NaN            0.962185  \n",
       "...     ...     ...                 ...  \n",
       "226    5.00     NaN            2.131231  \n",
       "2133   4.75     NaN            1.837193  \n",
       "2218   4.50     NaN            1.543155  \n",
       "1725   4.25     NaN            1.249117  \n",
       "1991   4.25     NaN            1.249117  \n",
       "\n",
       "[165 rows x 8 columns]"
      ],
      "text/html": [
       "<div>\n",
       "<style scoped>\n",
       "    .dataframe tbody tr th:only-of-type {\n",
       "        vertical-align: middle;\n",
       "    }\n",
       "\n",
       "    .dataframe tbody tr th {\n",
       "        vertical-align: top;\n",
       "    }\n",
       "\n",
       "    .dataframe thead th {\n",
       "        text-align: right;\n",
       "    }\n",
       "</style>\n",
       "<table border=\"1\" class=\"dataframe\">\n",
       "  <thead>\n",
       "    <tr style=\"text-align: right;\">\n",
       "      <th></th>\n",
       "      <th>Review #</th>\n",
       "      <th>Brand</th>\n",
       "      <th>Variety</th>\n",
       "      <th>Style</th>\n",
       "      <th>Country</th>\n",
       "      <th>Stars</th>\n",
       "      <th>Top Ten</th>\n",
       "      <th>Stars_z_normalized</th>\n",
       "    </tr>\n",
       "  </thead>\n",
       "  <tbody>\n",
       "    <tr>\n",
       "      <th>512</th>\n",
       "      <td>2068</td>\n",
       "      <td>Maggi</td>\n",
       "      <td>Fusian Special Edition Ow... Ow... Spicy Cow M...</td>\n",
       "      <td>Pack</td>\n",
       "      <td>Australia</td>\n",
       "      <td>5.00</td>\n",
       "      <td>NaN</td>\n",
       "      <td>2.079233</td>\n",
       "    </tr>\n",
       "    <tr>\n",
       "      <th>538</th>\n",
       "      <td>2042</td>\n",
       "      <td>Suimin</td>\n",
       "      <td>Noodles Mi Goreng</td>\n",
       "      <td>Cup</td>\n",
       "      <td>Australia</td>\n",
       "      <td>4.30</td>\n",
       "      <td>NaN</td>\n",
       "      <td>1.297299</td>\n",
       "    </tr>\n",
       "    <tr>\n",
       "      <th>272</th>\n",
       "      <td>2308</td>\n",
       "      <td>Fantastic</td>\n",
       "      <td>Noodles Chicken Chow Mein Flavour</td>\n",
       "      <td>Cup</td>\n",
       "      <td>Australia</td>\n",
       "      <td>4.00</td>\n",
       "      <td>NaN</td>\n",
       "      <td>0.962185</td>\n",
       "    </tr>\n",
       "    <tr>\n",
       "      <th>306</th>\n",
       "      <td>2274</td>\n",
       "      <td>Suimin</td>\n",
       "      <td>Noodles With Braised Beef Flavour</td>\n",
       "      <td>Cup</td>\n",
       "      <td>Australia</td>\n",
       "      <td>4.00</td>\n",
       "      <td>NaN</td>\n",
       "      <td>0.962185</td>\n",
       "    </tr>\n",
       "    <tr>\n",
       "      <th>327</th>\n",
       "      <td>2253</td>\n",
       "      <td>Singa-Me</td>\n",
       "      <td>Instant Noodles Mi Goreng Flavour</td>\n",
       "      <td>Cup</td>\n",
       "      <td>Australia</td>\n",
       "      <td>4.00</td>\n",
       "      <td>NaN</td>\n",
       "      <td>0.962185</td>\n",
       "    </tr>\n",
       "    <tr>\n",
       "      <th>...</th>\n",
       "      <td>...</td>\n",
       "      <td>...</td>\n",
       "      <td>...</td>\n",
       "      <td>...</td>\n",
       "      <td>...</td>\n",
       "      <td>...</td>\n",
       "      <td>...</td>\n",
       "      <td>...</td>\n",
       "    </tr>\n",
       "    <tr>\n",
       "      <th>226</th>\n",
       "      <td>2354</td>\n",
       "      <td>Vifon</td>\n",
       "      <td>Viet Cuisine Bun Rieu Cua Sour Crab Soup Insta...</td>\n",
       "      <td>Bowl</td>\n",
       "      <td>Vietnam</td>\n",
       "      <td>5.00</td>\n",
       "      <td>NaN</td>\n",
       "      <td>2.131231</td>\n",
       "    </tr>\n",
       "    <tr>\n",
       "      <th>2133</th>\n",
       "      <td>447</td>\n",
       "      <td>Ve Wong</td>\n",
       "      <td>Little Prince Bacon</td>\n",
       "      <td>Pack</td>\n",
       "      <td>Vietnam</td>\n",
       "      <td>4.75</td>\n",
       "      <td>NaN</td>\n",
       "      <td>1.837193</td>\n",
       "    </tr>\n",
       "    <tr>\n",
       "      <th>2218</th>\n",
       "      <td>362</td>\n",
       "      <td>Vina Acecook</td>\n",
       "      <td>Daily Hot &amp; Sour With Shrimp</td>\n",
       "      <td>Pack</td>\n",
       "      <td>Vietnam</td>\n",
       "      <td>4.50</td>\n",
       "      <td>NaN</td>\n",
       "      <td>1.543155</td>\n",
       "    </tr>\n",
       "    <tr>\n",
       "      <th>1725</th>\n",
       "      <td>855</td>\n",
       "      <td>Vina Acecook</td>\n",
       "      <td>Bestcook Hot &amp; Sour Shrimp</td>\n",
       "      <td>Bowl</td>\n",
       "      <td>Vietnam</td>\n",
       "      <td>4.25</td>\n",
       "      <td>NaN</td>\n",
       "      <td>1.249117</td>\n",
       "    </tr>\n",
       "    <tr>\n",
       "      <th>1991</th>\n",
       "      <td>589</td>\n",
       "      <td>Vifon</td>\n",
       "      <td>South Korean Style Kim Chee</td>\n",
       "      <td>Bowl</td>\n",
       "      <td>Vietnam</td>\n",
       "      <td>4.25</td>\n",
       "      <td>NaN</td>\n",
       "      <td>1.249117</td>\n",
       "    </tr>\n",
       "  </tbody>\n",
       "</table>\n",
       "<p>165 rows × 8 columns</p>\n",
       "</div>"
      ]
     },
     "execution_count": 67,
     "metadata": {},
     "output_type": "execute_result"
    }
   ],
   "execution_count": 67
  },
  {
   "metadata": {
    "ExecuteTime": {
     "end_time": "2025-09-03T20:27:06.936804Z",
     "start_time": "2025-09-03T20:27:06.916998Z"
    }
   },
   "cell_type": "code",
   "source": [
    "# вторая (для нее можно использовать z-нормализованную оценку)\n",
    "\n",
    "df.sort_values(\"Stars_z_normalized\", ascending=False).head(5)"
   ],
   "id": "d772ec1be350512f",
   "outputs": [
    {
     "data": {
      "text/plain": [
       "      Review #            Brand  \\\n",
       "89        2491           Nissin   \n",
       "245       2335           Nissin   \n",
       "226       2354            Vifon   \n",
       "1031      1549  Sapporo Ichiban   \n",
       "1239      1341    Plats Du Chef   \n",
       "\n",
       "                                                Variety Style  Country  Stars  \\\n",
       "89                                Soba Yakitori Chicken   Cup  Germany    5.0   \n",
       "245        Cup Noodles Gourmet Sabor A Caldo De Camaron   Cup   Mexico    5.0   \n",
       "226   Viet Cuisine Bun Rieu Cua Sour Crab Soup Insta...  Bowl  Vietnam    5.0   \n",
       "1031          Chow Mein Japanese Style Noodles Yakisoba  Pack   Canada    5.0   \n",
       "1239                Cuisine Adventures Chicken Pho Soup  Bowl   Canada    5.0   \n",
       "\n",
       "     Top Ten  Stars_z_normalized  \n",
       "89       NaN            2.739842  \n",
       "245      NaN            2.625636  \n",
       "226      NaN            2.131231  \n",
       "1031     NaN            2.126597  \n",
       "1239     NaN            2.126597  "
      ],
      "text/html": [
       "<div>\n",
       "<style scoped>\n",
       "    .dataframe tbody tr th:only-of-type {\n",
       "        vertical-align: middle;\n",
       "    }\n",
       "\n",
       "    .dataframe tbody tr th {\n",
       "        vertical-align: top;\n",
       "    }\n",
       "\n",
       "    .dataframe thead th {\n",
       "        text-align: right;\n",
       "    }\n",
       "</style>\n",
       "<table border=\"1\" class=\"dataframe\">\n",
       "  <thead>\n",
       "    <tr style=\"text-align: right;\">\n",
       "      <th></th>\n",
       "      <th>Review #</th>\n",
       "      <th>Brand</th>\n",
       "      <th>Variety</th>\n",
       "      <th>Style</th>\n",
       "      <th>Country</th>\n",
       "      <th>Stars</th>\n",
       "      <th>Top Ten</th>\n",
       "      <th>Stars_z_normalized</th>\n",
       "    </tr>\n",
       "  </thead>\n",
       "  <tbody>\n",
       "    <tr>\n",
       "      <th>89</th>\n",
       "      <td>2491</td>\n",
       "      <td>Nissin</td>\n",
       "      <td>Soba Yakitori Chicken</td>\n",
       "      <td>Cup</td>\n",
       "      <td>Germany</td>\n",
       "      <td>5.0</td>\n",
       "      <td>NaN</td>\n",
       "      <td>2.739842</td>\n",
       "    </tr>\n",
       "    <tr>\n",
       "      <th>245</th>\n",
       "      <td>2335</td>\n",
       "      <td>Nissin</td>\n",
       "      <td>Cup Noodles Gourmet Sabor A Caldo De Camaron</td>\n",
       "      <td>Cup</td>\n",
       "      <td>Mexico</td>\n",
       "      <td>5.0</td>\n",
       "      <td>NaN</td>\n",
       "      <td>2.625636</td>\n",
       "    </tr>\n",
       "    <tr>\n",
       "      <th>226</th>\n",
       "      <td>2354</td>\n",
       "      <td>Vifon</td>\n",
       "      <td>Viet Cuisine Bun Rieu Cua Sour Crab Soup Insta...</td>\n",
       "      <td>Bowl</td>\n",
       "      <td>Vietnam</td>\n",
       "      <td>5.0</td>\n",
       "      <td>NaN</td>\n",
       "      <td>2.131231</td>\n",
       "    </tr>\n",
       "    <tr>\n",
       "      <th>1031</th>\n",
       "      <td>1549</td>\n",
       "      <td>Sapporo Ichiban</td>\n",
       "      <td>Chow Mein Japanese Style Noodles Yakisoba</td>\n",
       "      <td>Pack</td>\n",
       "      <td>Canada</td>\n",
       "      <td>5.0</td>\n",
       "      <td>NaN</td>\n",
       "      <td>2.126597</td>\n",
       "    </tr>\n",
       "    <tr>\n",
       "      <th>1239</th>\n",
       "      <td>1341</td>\n",
       "      <td>Plats Du Chef</td>\n",
       "      <td>Cuisine Adventures Chicken Pho Soup</td>\n",
       "      <td>Bowl</td>\n",
       "      <td>Canada</td>\n",
       "      <td>5.0</td>\n",
       "      <td>NaN</td>\n",
       "      <td>2.126597</td>\n",
       "    </tr>\n",
       "  </tbody>\n",
       "</table>\n",
       "</div>"
      ]
     },
     "execution_count": 68,
     "metadata": {},
     "output_type": "execute_result"
    }
   ],
   "execution_count": 68
  },
  {
   "metadata": {},
   "cell_type": "markdown",
   "source": "4) Найти рамены, которые продаются в нескольких странах и на основе них скорректировать оценку",
   "id": "c5a5ecd0fdec5d21"
  },
  {
   "metadata": {
    "ExecuteTime": {
     "end_time": "2025-09-10T09:02:04.713547Z",
     "start_time": "2025-09-10T09:02:04.703934Z"
    }
   },
   "cell_type": "code",
   "source": [
    "# проверим, есть ли вообще рамены, которые были оценены в нескольких странах\n",
    "worldwide_ramens = df.groupby([\"Brand\", \"Variety\"])[\"Country\"].nunique().reset_index(name=\"unique_countries\").sort_values(\"unique_countries\", ascending=False)\n",
    "worldwide_ramens_brand_name = list(map(tuple, worldwide_ramens[worldwide_ramens[\"unique_countries\"] > 1][[\"Brand\", \"Variety\"]].to_numpy()))\n",
    "worldwide_ramens_brand_name"
   ],
   "id": "ae0ba14fcd50a59e",
   "outputs": [
    {
     "data": {
      "text/plain": [
       "[('Maggi', '2 Minute Noodles Curry Flavour'),\n",
       " ('Nissin', 'Cup Noodles Chilli Crab Flavour'),\n",
       " ('Nongshim', 'Soon Veggie Noodle Soup'),\n",
       " ('Sapporo Ichiban', 'Shrimp Flavor'),\n",
       " ('Saigon Ve Wong', 'Kung Fu Artificial Beef Rice Noodle'),\n",
       " ('Nissin', 'Cup Noodles Black Pepper Crab Flavour'),\n",
       " ('Nissin', 'Cup Noodles Seafood')]"
      ]
     },
     "execution_count": 18,
     "metadata": {},
     "output_type": "execute_result"
    }
   ],
   "execution_count": 18
  },
  {
   "metadata": {},
   "cell_type": "markdown",
   "source": "Заметим, что некоторые рамены продаются в разных странах, но кол-во уникальных стран не большое, что не хорошо для корректировки",
   "id": "df37f46ffa226815"
  },
  {
   "metadata": {
    "ExecuteTime": {
     "end_time": "2025-09-10T09:10:51.112169Z",
     "start_time": "2025-09-10T09:10:51.095948Z"
    }
   },
   "cell_type": "code",
   "source": [
    "filtered = df[df[[\"Brand\", \"Variety\"]].apply(tuple, axis=1).isin(worldwide_ramens_brand_name)].sort_values([\"Brand\", \"Variety\"])\n",
    "\n",
    "# сейчас найдем коэф корректировки основываясь на бренд+вкус\n",
    "brand_variety_means = filtered.groupby([\"Brand\", \"Variety\"])[\"Stars\"].mean().reset_index()\n",
    "#\n",
    "\n",
    "# # # среднее по всем странам, чтобы найти отклонения\n",
    "global_mean = brand_variety_means[\"Stars\"].mean()\n",
    "#\n",
    "df_country_means = filtered.groupby(\"Country\")[\"Stars\"].mean().reset_index()\n",
    "#\n",
    "# # получим отклонения в каждой стране\n",
    "df_country_means[\"shift\"] = df_country_means[\"Stars\"] - global_mean\n"
   ],
   "id": "2d8c0dbe43827614",
   "outputs": [
    {
     "data": {
      "text/plain": [
       "np.float64(3.8392857142857144)"
      ]
     },
     "execution_count": 22,
     "metadata": {},
     "output_type": "execute_result"
    }
   ],
   "execution_count": 22
  },
  {
   "metadata": {
    "ExecuteTime": {
     "end_time": "2025-09-10T09:02:07.535543Z",
     "start_time": "2025-09-10T09:02:07.514851Z"
    }
   },
   "cell_type": "code",
   "source": [
    "country_shift_map = dict(zip(df_country_means[\"Country\"], df_country_means[\"shift\"]))\n",
    "\n",
    "df[\"adjusted_stars\"] = df.apply(\n",
    "    lambda row: row[\"Stars\"] - country_shift_map.get(row[\"Country\"], 0), axis=1\n",
    ")\n",
    "df"
   ],
   "id": "23208439355931a6",
   "outputs": [
    {
     "data": {
      "text/plain": [
       "      Review #           Brand  \\\n",
       "0         2580       New Touch   \n",
       "1         2579        Just Way   \n",
       "2         2578          Nissin   \n",
       "3         2577         Wei Lih   \n",
       "4         2576  Ching's Secret   \n",
       "...        ...             ...   \n",
       "2575         5           Vifon   \n",
       "2576         4         Wai Wai   \n",
       "2577         3         Wai Wai   \n",
       "2578         2         Wai Wai   \n",
       "2579         1        Westbrae   \n",
       "\n",
       "                                                Variety Style   Country  \\\n",
       "0                             T's Restaurant Tantanmen    Cup     Japan   \n",
       "1     Noodles Spicy Hot Sesame Spicy Hot Sesame Guan...  Pack    Taiwan   \n",
       "2                         Cup Noodles Chicken Vegetable   Cup       USA   \n",
       "3                         GGE Ramen Snack Tomato Flavor  Pack    Taiwan   \n",
       "4                                       Singapore Curry  Pack     India   \n",
       "...                                                 ...   ...       ...   \n",
       "2575  Hu Tiu Nam Vang [\"Phnom Penh\" style] Asian Sty...  Bowl   Vietnam   \n",
       "2576                     Oriental Style Instant Noodles  Pack  Thailand   \n",
       "2577                                     Tom Yum Shrimp  Pack  Thailand   \n",
       "2578                               Tom Yum Chili Flavor  Pack  Thailand   \n",
       "2579                                         Miso Ramen  Pack       USA   \n",
       "\n",
       "      Stars Top Ten  adjusted_stars  \n",
       "0      3.75     NaN        5.089286  \n",
       "1      1.00     NaN        1.000000  \n",
       "2      2.25     NaN        2.714286  \n",
       "3      2.75     NaN        2.750000  \n",
       "4      3.75     NaN        3.750000  \n",
       "...     ...     ...             ...  \n",
       "2575   3.50     NaN        3.089286  \n",
       "2576   1.00     NaN        1.000000  \n",
       "2577   2.00     NaN        2.000000  \n",
       "2578   2.00     NaN        2.000000  \n",
       "2579   0.50     NaN        0.964286  \n",
       "\n",
       "[2580 rows x 8 columns]"
      ],
      "text/html": [
       "<div>\n",
       "<style scoped>\n",
       "    .dataframe tbody tr th:only-of-type {\n",
       "        vertical-align: middle;\n",
       "    }\n",
       "\n",
       "    .dataframe tbody tr th {\n",
       "        vertical-align: top;\n",
       "    }\n",
       "\n",
       "    .dataframe thead th {\n",
       "        text-align: right;\n",
       "    }\n",
       "</style>\n",
       "<table border=\"1\" class=\"dataframe\">\n",
       "  <thead>\n",
       "    <tr style=\"text-align: right;\">\n",
       "      <th></th>\n",
       "      <th>Review #</th>\n",
       "      <th>Brand</th>\n",
       "      <th>Variety</th>\n",
       "      <th>Style</th>\n",
       "      <th>Country</th>\n",
       "      <th>Stars</th>\n",
       "      <th>Top Ten</th>\n",
       "      <th>adjusted_stars</th>\n",
       "    </tr>\n",
       "  </thead>\n",
       "  <tbody>\n",
       "    <tr>\n",
       "      <th>0</th>\n",
       "      <td>2580</td>\n",
       "      <td>New Touch</td>\n",
       "      <td>T's Restaurant Tantanmen</td>\n",
       "      <td>Cup</td>\n",
       "      <td>Japan</td>\n",
       "      <td>3.75</td>\n",
       "      <td>NaN</td>\n",
       "      <td>5.089286</td>\n",
       "    </tr>\n",
       "    <tr>\n",
       "      <th>1</th>\n",
       "      <td>2579</td>\n",
       "      <td>Just Way</td>\n",
       "      <td>Noodles Spicy Hot Sesame Spicy Hot Sesame Guan...</td>\n",
       "      <td>Pack</td>\n",
       "      <td>Taiwan</td>\n",
       "      <td>1.00</td>\n",
       "      <td>NaN</td>\n",
       "      <td>1.000000</td>\n",
       "    </tr>\n",
       "    <tr>\n",
       "      <th>2</th>\n",
       "      <td>2578</td>\n",
       "      <td>Nissin</td>\n",
       "      <td>Cup Noodles Chicken Vegetable</td>\n",
       "      <td>Cup</td>\n",
       "      <td>USA</td>\n",
       "      <td>2.25</td>\n",
       "      <td>NaN</td>\n",
       "      <td>2.714286</td>\n",
       "    </tr>\n",
       "    <tr>\n",
       "      <th>3</th>\n",
       "      <td>2577</td>\n",
       "      <td>Wei Lih</td>\n",
       "      <td>GGE Ramen Snack Tomato Flavor</td>\n",
       "      <td>Pack</td>\n",
       "      <td>Taiwan</td>\n",
       "      <td>2.75</td>\n",
       "      <td>NaN</td>\n",
       "      <td>2.750000</td>\n",
       "    </tr>\n",
       "    <tr>\n",
       "      <th>4</th>\n",
       "      <td>2576</td>\n",
       "      <td>Ching's Secret</td>\n",
       "      <td>Singapore Curry</td>\n",
       "      <td>Pack</td>\n",
       "      <td>India</td>\n",
       "      <td>3.75</td>\n",
       "      <td>NaN</td>\n",
       "      <td>3.750000</td>\n",
       "    </tr>\n",
       "    <tr>\n",
       "      <th>...</th>\n",
       "      <td>...</td>\n",
       "      <td>...</td>\n",
       "      <td>...</td>\n",
       "      <td>...</td>\n",
       "      <td>...</td>\n",
       "      <td>...</td>\n",
       "      <td>...</td>\n",
       "      <td>...</td>\n",
       "    </tr>\n",
       "    <tr>\n",
       "      <th>2575</th>\n",
       "      <td>5</td>\n",
       "      <td>Vifon</td>\n",
       "      <td>Hu Tiu Nam Vang [\"Phnom Penh\" style] Asian Sty...</td>\n",
       "      <td>Bowl</td>\n",
       "      <td>Vietnam</td>\n",
       "      <td>3.50</td>\n",
       "      <td>NaN</td>\n",
       "      <td>3.089286</td>\n",
       "    </tr>\n",
       "    <tr>\n",
       "      <th>2576</th>\n",
       "      <td>4</td>\n",
       "      <td>Wai Wai</td>\n",
       "      <td>Oriental Style Instant Noodles</td>\n",
       "      <td>Pack</td>\n",
       "      <td>Thailand</td>\n",
       "      <td>1.00</td>\n",
       "      <td>NaN</td>\n",
       "      <td>1.000000</td>\n",
       "    </tr>\n",
       "    <tr>\n",
       "      <th>2577</th>\n",
       "      <td>3</td>\n",
       "      <td>Wai Wai</td>\n",
       "      <td>Tom Yum Shrimp</td>\n",
       "      <td>Pack</td>\n",
       "      <td>Thailand</td>\n",
       "      <td>2.00</td>\n",
       "      <td>NaN</td>\n",
       "      <td>2.000000</td>\n",
       "    </tr>\n",
       "    <tr>\n",
       "      <th>2578</th>\n",
       "      <td>2</td>\n",
       "      <td>Wai Wai</td>\n",
       "      <td>Tom Yum Chili Flavor</td>\n",
       "      <td>Pack</td>\n",
       "      <td>Thailand</td>\n",
       "      <td>2.00</td>\n",
       "      <td>NaN</td>\n",
       "      <td>2.000000</td>\n",
       "    </tr>\n",
       "    <tr>\n",
       "      <th>2579</th>\n",
       "      <td>1</td>\n",
       "      <td>Westbrae</td>\n",
       "      <td>Miso Ramen</td>\n",
       "      <td>Pack</td>\n",
       "      <td>USA</td>\n",
       "      <td>0.50</td>\n",
       "      <td>NaN</td>\n",
       "      <td>0.964286</td>\n",
       "    </tr>\n",
       "  </tbody>\n",
       "</table>\n",
       "<p>2580 rows × 8 columns</p>\n",
       "</div>"
      ]
     },
     "execution_count": 20,
     "metadata": {},
     "output_type": "execute_result"
    }
   ],
   "execution_count": 20
  },
  {
   "metadata": {
    "ExecuteTime": {
     "end_time": "2025-09-10T09:14:32.214430Z",
     "start_time": "2025-09-10T09:14:32.200372Z"
    }
   },
   "cell_type": "code",
   "source": "df[df[\"Variety\"] == \"Singapore Curry\"][\"Stars\"].mean()",
   "id": "bb8947bd62152bdc",
   "outputs": [
    {
     "data": {
      "text/plain": [
       "np.float64(3.75)"
      ]
     },
     "execution_count": 23,
     "metadata": {},
     "output_type": "execute_result"
    }
   ],
   "execution_count": 23
  }
 ],
 "metadata": {
  "kernelspec": {
   "display_name": "Python 3",
   "language": "python",
   "name": "python3"
  },
  "language_info": {
   "codemirror_mode": {
    "name": "ipython",
    "version": 2
   },
   "file_extension": ".py",
   "mimetype": "text/x-python",
   "name": "python",
   "nbconvert_exporter": "python",
   "pygments_lexer": "ipython2",
   "version": "2.7.6"
  }
 },
 "nbformat": 4,
 "nbformat_minor": 5
}
